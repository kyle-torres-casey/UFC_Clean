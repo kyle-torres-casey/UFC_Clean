{
 "cells": [
  {
   "cell_type": "code",
   "execution_count": 106,
   "metadata": {},
   "outputs": [],
   "source": [
    "import pandas as pd\n",
    "df_927 = pd.read_csv(\"ufc_combined_0927_5.csv\", index_col = 0)\n",
    "# df_911 = pd.read_csv(\"ufc_combined_0911.csv\", index_col = 0)\n"
   ]
  },
  {
   "cell_type": "code",
   "execution_count": 100,
   "metadata": {},
   "outputs": [],
   "source": [
    "bouts = pd.read_csv(\"bouts_0927_3.csv\", index_col = 0)"
   ]
  },
  {
   "cell_type": "code",
   "execution_count": 72,
   "metadata": {},
   "outputs": [],
   "source": [
    "bouts_0927 = pd.read_csv(\"bouts_0927.csv\", index_col = 0)\n",
    "bouts_913 = pd.read_csv(\"bouts_913.csv\", index_col = 0)"
   ]
  },
  {
   "cell_type": "code",
   "execution_count": 84,
   "metadata": {},
   "outputs": [],
   "source": [
    "bouts_clean = pd.read_csv(\"bouts_0927_2.csv\")"
   ]
  },
  {
   "cell_type": "code",
   "execution_count": 85,
   "metadata": {},
   "outputs": [],
   "source": [
    "# Identify and drop non-integer 'Round' values\n",
    "bouts_clean['Round_numeric'] = pd.to_numeric(bouts_clean['Round'], errors='coerce')\n",
    "bouts_clean = bouts_clean.dropna(subset=['Round_numeric'])  # Drop rows with NaN in 'Round_numeric'\n",
    "\n",
    "# Optionally, drop the temporary 'Round_numeric' column if no longer needed\n",
    "bouts_clean = bouts_clean.drop(columns=['Round_numeric'])"
   ]
  },
  {
   "cell_type": "code",
   "execution_count": 86,
   "metadata": {},
   "outputs": [],
   "source": [
    "bouts_clean.to_csv(\"bouts_0927_3.csv\")"
   ]
  },
  {
   "cell_type": "code",
   "execution_count": 80,
   "metadata": {},
   "outputs": [
    {
     "name": "stdout",
     "output_type": "stream",
     "text": [
      "15    Round\n",
      "98    Round\n",
      "Name: Round, dtype: object\n"
     ]
    }
   ],
   "source": [
    "# Convert 'Round' column to numeric, forcing non-numeric values to NaN\n",
    "bouts_clean['Round_numeric'] = pd.to_numeric(bouts_clean['Round'], errors='coerce')\n",
    "\n",
    "# Check for rows where the conversion failed (i.e., non-integer values)\n",
    "non_numeric_rounds = bouts_clean[bouts_clean['Round_numeric'].isna()]\n",
    "\n",
    "# Print or inspect non-integer rows\n",
    "print(non_numeric_rounds['Round'])"
   ]
  },
  {
   "cell_type": "code",
   "execution_count": 42,
   "metadata": {},
   "outputs": [],
   "source": [
    "import pandas as pd\n",
    "import numpy as np"
   ]
  },
  {
   "cell_type": "code",
   "execution_count": null,
   "metadata": {},
   "outputs": [],
   "source": [
    "##### This section finds names within names in odds df"
   ]
  },
  {
   "cell_type": "code",
   "execution_count": 98,
   "metadata": {},
   "outputs": [],
   "source": [
    "odds_df = pd.read_csv('all_fight_odds_w307_929_2.csv', index_col=0)\n",
    "fights_df = pd.read_csv(\"ufc_combined_1004.csv\", index_col=0)"
   ]
  },
  {
   "cell_type": "code",
   "execution_count": 99,
   "metadata": {},
   "outputs": [],
   "source": [
    "odds_df['Fighter'] = odds_df['Fighter'].str.replace('.', '', regex=False)\n",
    "odds_df['Opponent'] = odds_df['Opponent'].str.replace('.', '', regex=False)\n",
    "\n",
    "fights_df['Fighter 1'] = fights_df['Fighter 1'].str.replace('.', '', regex=False)\n",
    "fights_df['Fighter 2'] = fights_df['Fighter 2'].str.replace('.', '', regex=False)"
   ]
  },
  {
   "cell_type": "code",
   "execution_count": 104,
   "metadata": {},
   "outputs": [
    {
     "name": "stdout",
     "output_type": "stream",
     "text": [
      "Combined Names DataFrame with Exact Match Check:\n",
      "Empty DataFrame\n",
      "Columns: [Short Name, Long Name, Short Exists, Long Exists]\n",
      "Index: []\n"
     ]
    }
   ],
   "source": [
    "# Get unique names from 'Fighter' and 'Opponent' columns\n",
    "fighter_unique = odds_df['Fighter'].unique()\n",
    "opponent_unique = odds_df['Opponent'].unique()\n",
    "# fighter_unique = fights_df['Fighter 1'].unique()\n",
    "# opponent_unique = fights_df['Fighter 2'].unique()\n",
    "\n",
    "# Combine the unique names from both columns\n",
    "unique_names = np.union1d(fighter_unique, opponent_unique)\n",
    "\n",
    "# Initialize lists to store short and long names\n",
    "short_names = []\n",
    "long_names = []\n",
    "\n",
    "# Iterate through the unique names and check if a name exists as a substring in another name\n",
    "for name in unique_names:\n",
    "    for other_name in unique_names:\n",
    "        # Skip if it's the same name but check if 'name' is a substring of 'other_name'\n",
    "        if name != other_name and name in other_name:\n",
    "            # Append the shorter name and the longer name\n",
    "            short_names.append(name)\n",
    "            long_names.append(other_name)\n",
    "\n",
    "# Create a single DataFrame with two columns for short and long names\n",
    "combined_names_df = pd.DataFrame({\n",
    "    'Short Name': short_names,\n",
    "    'Long Name': long_names\n",
    "})\n",
    "\n",
    "# Check if short names or long names exist in fights_df (exact match)\n",
    "combined_names_df['Short Exists'] = combined_names_df['Short Name'].apply(\n",
    "    lambda name: ((fights_df['Fighter 1'].str.lower() == name.lower()).any() | \n",
    "                   (fights_df['Fighter 2'].str.lower() == name.lower()).any())\n",
    ")\n",
    "\n",
    "combined_names_df['Long Exists'] = combined_names_df['Long Name'].apply(\n",
    "    lambda name: ((fights_df['Fighter 1'].str.lower() == name.lower()).any() | \n",
    "                   (fights_df['Fighter 2'].str.lower() == name.lower()).any())\n",
    ")\n",
    "\n",
    "# Print the result\n",
    "print(\"Combined Names DataFrame with Exact Match Check:\")\n",
    "print(combined_names_df)\n",
    "\n"
   ]
  },
  {
   "cell_type": "code",
   "execution_count": 101,
   "metadata": {},
   "outputs": [
    {
     "name": "stdout",
     "output_type": "stream",
     "text": [
      "short_name  Askar Askar\n",
      "long_name  Askar Askarov\n",
      "row['Long Exists'] and not row['Short Exists']\n",
      "short_name  Brogan Walker\n",
      "long_name  Brogan Walker-Sanchez\n",
      "row['Short Exists'] and not row['Long Exists']\n",
      "short_name  Carlos Huachin\n",
      "long_name  Carlos Huachin Quiroz\n",
      "row['Short Exists'] and not row['Long Exists']\n",
      "short_name  Daniel da Silva\n",
      "long_name  Daniel da Silva Lacerda\n",
      "short_name  Diego Ferreira\n",
      "long_name  Carlos Diego Ferreira\n",
      "row['Short Exists'] and not row['Long Exists']\n",
      "short_name  Elizeu Zaleski\n",
      "long_name  Elizeu Zaleski Dos Santos\n",
      "row['Long Exists'] and not row['Short Exists']\n",
      "short_name  Henrique da Silva\n",
      "long_name  Claudio Henrique da Silva\n",
      "row['Short Exists'] and not row['Long Exists']\n",
      "short_name  Henrique da Silva\n",
      "long_name  Luis Henrique da Silva\n",
      "row['Short Exists'] and not row['Long Exists']\n",
      "short_name  Henrique da Silva\n",
      "long_name  Luiz Henrique da Silva\n",
      "row['Short Exists'] and not row['Long Exists']\n",
      "short_name  Johnny Munoz\n",
      "long_name  Johnny Munoz Jr\n",
      "row['Short Exists'] and not row['Long Exists']\n",
      "short_name  Kai Kamaka\n",
      "long_name  Kai Kamaka III\n",
      "row['Short Exists'] and not row['Long Exists']\n",
      "short_name  Kai Kamaka\n",
      "long_name  Kai Kamaka Iii\n",
      "row['Short Exists'] and not row['Long Exists']\n",
      "short_name  Khalil Rountree\n",
      "long_name  Khalil Rountree Jr\n",
      "row['Long Exists'] and not row['Short Exists']\n",
      "short_name  Luis Henrique\n",
      "long_name  Luis Henrique da Silva\n",
      "row['Short Exists'] and not row['Long Exists']\n",
      "short_name  Luiz Henrique\n",
      "long_name  Luiz Henrique da Silva\n",
      "short_name  Maheshate\n",
      "long_name  Hayisaer Maheshate\n",
      "row['Short Exists'] and not row['Long Exists']\n",
      "short_name  Marcos Rogerio\n",
      "long_name  Marcos Rogerio de Lima\n",
      "row['Long Exists'] and not row['Short Exists']\n",
      "short_name  Mayra Bueno\n",
      "long_name  Mayra Bueno Silva\n",
      "row['Long Exists'] and not row['Short Exists']\n",
      "short_name  Michelle Waterson\n",
      "long_name  Michelle Waterson Gomez\n",
      "short_name  Michelle Waterson\n",
      "long_name  Michelle Waterson-Gomez\n",
      "row['Long Exists'] and not row['Short Exists']\n",
      "short_name  Pete Rodrigue\n",
      "long_name  Pete Rodriguez\n",
      "row['Long Exists'] and not row['Short Exists']\n",
      "short_name  Polo Reyes\n",
      "long_name  Marco Polo Reyes\n",
      "row['Long Exists'] and not row['Short Exists']\n",
      "short_name  William Gomi\n",
      "long_name  William Gomis\n",
      "row['Long Exists'] and not row['Short Exists']\n",
      "short_name  Zarah Fairn\n",
      "long_name  Zarah Fairn Dos Santos\n",
      "row['Short Exists'] and not row['Long Exists']\n",
      "Modified odds_df:\n",
      "                   Fighter  Fighter Odds           Opponent  Opponent Odds  \\\n",
      "0     Alexander Gustafsson         340.0         Phil Davis         -465.0   \n",
      "1           Anderson Silva        -560.0        Demian Maia          405.0   \n",
      "2           Brad Blackburn        -170.0  Damarques Johnson          140.0   \n",
      "3            Frankie Edgar         525.0            BJ Penn         -750.0   \n",
      "4               Jon Madsen        -300.0   Mostapha Al-Turk          240.0   \n",
      "...                    ...           ...                ...            ...   \n",
      "7199         Cesar Almeida        -333.0      Ihor Potieria          250.0   \n",
      "7202           Court McGee         190.0          Tim Means         -230.0   \n",
      "7224        Iasmin Lucindo        -120.0   Marina Rodriguez         -110.0   \n",
      "7282        Kayla Harrison        -649.0      Ketlen Vieira          400.0   \n",
      "7376            Ryan Spann        -330.0    Ovince St Preux          260.0   \n",
      "\n",
      "                    Event           Date  \n",
      "0     UFC 112: Invincible  Apr 10th 2010  \n",
      "1     UFC 112: Invincible  Apr 10th 2010  \n",
      "2     UFC 112: Invincible  Apr 10th 2010  \n",
      "3     UFC 112: Invincible  Apr 10th 2010  \n",
      "4     UFC 112: Invincible  Apr 10th 2010  \n",
      "...                   ...            ...  \n",
      "7199              UFC 307   Oct 5th 2024  \n",
      "7202              UFC 307   Oct 5th 2024  \n",
      "7224              UFC 307   Oct 5th 2024  \n",
      "7282              UFC 307   Oct 5th 2024  \n",
      "7376              UFC 307   Oct 5th 2024  \n",
      "\n",
      "[7181 rows x 6 columns]\n"
     ]
    }
   ],
   "source": [
    "# Iterate through the combined_names_df to make changes in odds_df\n",
    "for idx, row in combined_names_df.iterrows():\n",
    "    short_name = row['Short Name']\n",
    "    long_name = row['Long Name']\n",
    "    print(\"short_name \", short_name)\n",
    "    print(\"long_name \", long_name)\n",
    "    \n",
    "    # Check if Short Exists is True and Long Exists is False\n",
    "    if row['Short Exists'] and not row['Long Exists']:\n",
    "        odds_df['Fighter'] = odds_df['Fighter'].replace(long_name, short_name)\n",
    "        odds_df['Opponent'] = odds_df['Opponent'].replace(long_name, short_name)\n",
    "        print(\"row['Short Exists'] and not row['Long Exists']\")\n",
    "\n",
    "    # Check if Long Exists is True and Short Exists is False\n",
    "    if row['Long Exists'] and not row['Short Exists']:\n",
    "        odds_df['Fighter'] = odds_df['Fighter'].replace(short_name, long_name)\n",
    "        odds_df['Opponent'] = odds_df['Opponent'].replace(short_name, long_name)\n",
    "        print(\"row['Long Exists'] and not row['Short Exists']\")\n",
    "\n",
    "# Print or inspect the modified odds_df\n",
    "print(\"Modified odds_df:\")\n",
    "print(odds_df)\n"
   ]
  },
  {
   "cell_type": "code",
   "execution_count": 103,
   "metadata": {},
   "outputs": [],
   "source": [
    "# 0  Daniel da Silva  Daniel da Silva Lacerda         False        False\n",
    "\n",
    "odds_df['Fighter'] = odds_df['Fighter'].replace('Daniel da Silva', 'Daniel Lacerda')\n",
    "odds_df['Opponent'] = odds_df['Opponent'].replace('Daniel da Silva', 'Daniel Lacerda')\n",
    "odds_df['Fighter'] = odds_df['Fighter'].replace('Daniel da Silva Lacerda', 'Daniel Lacerda')\n",
    "odds_df['Opponent'] = odds_df['Opponent'].replace('Daniel da Silva Lacerda', 'Daniel Lacerda')"
   ]
  },
  {
   "cell_type": "code",
   "execution_count": 119,
   "metadata": {},
   "outputs": [],
   "source": [
    "odds_df.to_csv('all_fight_odds_w307_1004_modified_2.csv')"
   ]
  },
  {
   "cell_type": "code",
   "execution_count": 36,
   "metadata": {},
   "outputs": [],
   "source": [
    "combined_names_df.to_csv(\"which_name.csv\")"
   ]
  },
  {
   "cell_type": "code",
   "execution_count": null,
   "metadata": {},
   "outputs": [],
   "source": [
    "###### Find similar names in both which could be the same person"
   ]
  },
  {
   "cell_type": "code",
   "execution_count": 82,
   "metadata": {},
   "outputs": [],
   "source": [
    "# odds_df = pd.read_csv('all_fight_odds_w307_929_2.csv', index_col=0)\n",
    "# fights_df = pd.read_csv(\"ufc_combined_0929.csv\", index_col=0)"
   ]
  },
  {
   "cell_type": "code",
   "execution_count": 106,
   "metadata": {},
   "outputs": [],
   "source": [
    "# Remove any '.' in 'Fighter' and 'Opponent' columns\n",
    "odds_df['Fighter'] = odds_df['Fighter'].str.replace('.', '', regex=False)\n",
    "odds_df['Opponent'] = odds_df['Opponent'].str.replace('.', '', regex=False)\n",
    "odds_df['Fighter'] = odds_df['Fighter'].str.replace('-', ' ', regex=False)\n",
    "odds_df['Opponent'] = odds_df['Opponent'].str.replace('-', ' ', regex=False)\n",
    "\n",
    "fights_df['Fighter 1'] = fights_df['Fighter 1'].str.replace('.', '', regex=False)\n",
    "fights_df['Fighter 2'] = fights_df['Fighter 2'].str.replace('.', '', regex=False)\n",
    "fights_df['Fighter 1'] = fights_df['Fighter 1'].str.replace('-', ' ', regex=False)\n",
    "fights_df['Fighter 2'] = fights_df['Fighter 2'].str.replace('-', ' ', regex=False)\n"
   ]
  },
  {
   "cell_type": "code",
   "execution_count": 121,
   "metadata": {},
   "outputs": [
    {
     "name": "stdout",
     "output_type": "stream",
     "text": [
      "            Name from DF1            Name from DF2  Similarity Score    DF1  \\\n",
      "0          Alexandra Albu          Aleksandra Albu                90  False   \n",
      "1            Ali Al Qaisi              Ali AlQaisi                96  False   \n",
      "2   Antonio Dos Santos Jr       Antonio Dos Santos                92  False   \n",
      "3            Asu Almabaev            Asu Almabayev                96  False   \n",
      "4            Chang Ho Lee              ChangHo Lee                96  False   \n",
      "5      Dmitriy Sosnovskiy        Dmitry Sosnovskiy                97  False   \n",
      "6             Erick Silva               Erik Silva                95   True   \n",
      "7        Jake Ellenberger          Joe Ellenberger                90   True   \n",
      "8            Jake O Brien             Jake O'Brien                92  False   \n",
      "9         Johny Hendricks           Josh Hendricks                90   True   \n",
      "10           Josh Burkman           Joshua Burkman                92  False   \n",
      "11          Jun Yong Park             JunYong Park                96  False   \n",
      "12    Marcio Alexandre Jr  Marcio Alexandre Junior                90  False   \n",
      "13       Mellisa Martinez         Melissa Martinez                94  False   \n",
      "14        Ovince St Preux       Ovince Saint Preux                91  False   \n",
      "15        Roberto Sanchez           Robert Sanchez                97  False   \n",
      "16          Ronnys Torres             Ronys Torres                96  False   \n",
      "17       Saparbek Safarov         Saparbeg Safarov                94  False   \n",
      "18         Seung Woo Choi            SeungWoo Choi                96  False   \n",
      "19         Steven Kennedy            Steve Kennedy                96  False   \n",
      "\n",
      "     DF2  \n",
      "0   True  \n",
      "1   True  \n",
      "2   True  \n",
      "3   True  \n",
      "4   True  \n",
      "5   True  \n",
      "6   True  \n",
      "7   True  \n",
      "8   True  \n",
      "9   True  \n",
      "10  True  \n",
      "11  True  \n",
      "12  True  \n",
      "13  True  \n",
      "14  True  \n",
      "15  True  \n",
      "16  True  \n",
      "17  True  \n",
      "18  True  \n",
      "19  True  \n"
     ]
    }
   ],
   "source": [
    "from fuzzywuzzy import fuzz\n",
    "import numpy as np\n",
    "\n",
    "# Get unique names from 'Fighter 1' and 'Fighter 2' columns in both DataFrames\n",
    "fighter_1_unique_df1 = odds_df['Fighter'].unique()\n",
    "fighter_2_unique_df1 = odds_df['Opponent'].unique()\n",
    "\n",
    "fighter_1_unique_df2 = fights_df['Fighter 1'].unique()\n",
    "fighter_2_unique_df2 = fights_df['Fighter 2'].unique()\n",
    "\n",
    "# Combine the unique names from both columns in each DataFrame\n",
    "unique_names_df1 = np.union1d(fighter_1_unique_df1, fighter_2_unique_df1)\n",
    "unique_names_df2 = np.union1d(fighter_1_unique_df2, fighter_2_unique_df2)\n",
    "\n",
    "# Initialize a list to store similar name matches\n",
    "similar_names = []\n",
    "# Set to track already compared name pairs\n",
    "seen_pairs = set()\n",
    "\n",
    "# Set a similarity threshold (e.g., 90%)\n",
    "threshold = 90\n",
    "\n",
    "# Iterate over each unique name in df1 and compare with each name in df2\n",
    "for name1 in unique_names_df1:\n",
    "    for name2 in unique_names_df2:\n",
    "        # Ensure we are not comparing the same name and avoid reversed duplicates\n",
    "        if name1.lower() != name2.lower():\n",
    "            # Create a tuple of the names in both orders to check for duplicates\n",
    "            pair = (name1, name2)\n",
    "            reverse_pair = (name2, name1)\n",
    "            \n",
    "            # Check if the pair or its reverse have already been compared\n",
    "            if pair not in seen_pairs and reverse_pair not in seen_pairs:\n",
    "                # Check the similarity using fuzzy matching\n",
    "                similarity_score = fuzz.ratio(name1, name2)\n",
    "                \n",
    "                if similarity_score >= threshold:\n",
    "                    # Append the pair (name1, name2) to the list\n",
    "                    similar_names.append((name1, name2, similarity_score))\n",
    "                    \n",
    "                    # Add both the pair and the reverse pair to the seen set\n",
    "                    seen_pairs.add(pair)\n",
    "                    seen_pairs.add(reverse_pair)\n",
    "\n",
    "\n",
    "# Convert the list of similar names to a DataFrame for easier viewing\n",
    "similar_names_df = pd.DataFrame(similar_names, columns=['Name from DF1', 'Name from DF2', 'Similarity Score'])\n",
    "\n",
    "# Check if short names or long names exist in fights_df (exact match)\n",
    "similar_names_df['DF1'] = similar_names_df['Name from DF1'].apply(\n",
    "    lambda name: ((fights_df['Fighter 1'].str.lower() == name.lower()).any() | \n",
    "                   (fights_df['Fighter 2'].str.lower() == name.lower()).any())\n",
    ")\n",
    "\n",
    "similar_names_df['DF2'] = similar_names_df['Name from DF2'].apply(\n",
    "    lambda name: ((fights_df['Fighter 1'].str.lower() == name.lower()).any() | \n",
    "                   (fights_df['Fighter 2'].str.lower() == name.lower()).any())\n",
    ")\n",
    "\n",
    "# Print or inspect the result\n",
    "print(similar_names_df)\n"
   ]
  },
  {
   "cell_type": "code",
   "execution_count": 117,
   "metadata": {},
   "outputs": [
    {
     "name": "stdout",
     "output_type": "stream",
     "text": [
      "df1\n",
      "df2\n",
      "df1\n",
      "df1\n",
      "df2\n",
      "df2\n",
      "df2\n",
      "df2\n",
      "df1\n",
      "df1\n",
      "df1\n",
      "df1\n",
      "df1\n",
      "df2\n",
      "df1\n",
      "df2\n",
      "df1\n",
      "df1\n",
      "df2\n",
      "df1\n",
      "df2\n",
      "df2\n",
      "df1\n",
      "df2\n",
      "df2\n",
      "df2\n",
      "df1\n",
      "df1\n",
      "df2\n",
      "df2\n",
      "df1\n",
      "df1\n",
      "df1\n",
      "df1\n",
      "df1\n",
      "df1\n",
      "df1\n",
      "df2\n",
      "df1\n",
      "df1\n",
      "df1\n",
      "df1\n",
      "df1\n",
      "df2\n",
      "df1\n",
      "df2\n",
      "df2\n",
      "df1\n",
      "df1\n",
      "df1\n",
      "df2\n",
      "df1\n",
      "df1\n",
      "df2\n",
      "df1\n",
      "df1\n",
      "df1\n"
     ]
    }
   ],
   "source": [
    "# Iterate through the combined_names_df to make changes in odds_df\n",
    "for idx, row in similar_names_df.iterrows():\n",
    "    df1 = row['Name from DF1']\n",
    "    df2 = row['Name from DF2']\n",
    "    \n",
    "    # Check if Short Exists is True and Long Exists is False\n",
    "    if row['DF1'] and not row['DF2']:\n",
    "        odds_df['Fighter'] = odds_df['Fighter'].replace(df2, df1)\n",
    "        odds_df['Opponent'] = odds_df['Opponent'].replace(df2, df1)\n",
    "        print(\"df1\")\n",
    "\n",
    "    # Check if Long Exists is True and Short Exists is False\n",
    "    if row['DF2'] and not row['DF1']:\n",
    "        odds_df['Fighter'] = odds_df['Fighter'].replace(df1, df2)\n",
    "        odds_df['Opponent'] = odds_df['Opponent'].replace(df1, df2)\n",
    "        print(\"df2\")\n",
    "\n",
    "# Print or inspect the modified odds_df\n",
    "# print(\"Modified odds_df:\")\n",
    "# print(odds_df)\n"
   ]
  },
  {
   "cell_type": "code",
   "execution_count": 118,
   "metadata": {},
   "outputs": [],
   "source": [
    "# 30,Joseph Duffey,Joseph Duffy,96,False,False - Joe Duffy\n",
    "# 47,Ode' Osbourne,Oder Osbourne,92,False,False - Ode Osbourne\n",
    "# 50,Philip Rowe,Phillip Rowe,96,False,False - Phil Rowe\n",
    "\n",
    "# 0  Daniel da Silva  Daniel da Silva Lacerda         False        False\n",
    "\n",
    "odds_df['Fighter'] = odds_df['Fighter'].replace('Joseph Duffey', 'Joe Duffy')\n",
    "odds_df['Opponent'] = odds_df['Opponent'].replace('Joseph Duffey', 'Joe Duffy')\n",
    "odds_df['Fighter'] = odds_df['Fighter'].replace('Joseph Duffy', 'Joe Duffy')\n",
    "odds_df['Opponent'] = odds_df['Opponent'].replace('Joseph Duffy', 'Joe Duffy')\n",
    "\n",
    "# odds_df['Fighter'] = odds_df['Fighter'].replace('Ode' Osbourne', 'Ode Osbourne')\n",
    "# odds_df['Opponent'] = odds_df['Opponent'].replace('Joseph Duffey', 'Ode Osbourne')\n",
    "odds_df['Fighter'] = odds_df['Fighter'].replace('Oder Osbourne', 'Ode Osbourne')\n",
    "odds_df['Opponent'] = odds_df['Opponent'].replace('Oder Osbourne', 'Ode Osbourne')\n",
    "\n",
    "odds_df['Fighter'] = odds_df['Fighter'].replace('Philip Rowe', 'Phil Rowe')\n",
    "odds_df['Opponent'] = odds_df['Opponent'].replace('Philip Rowe', 'Phil Rowe')\n",
    "odds_df['Fighter'] = odds_df['Fighter'].replace('Phillip Rowe', 'Phil Rowe')\n",
    "odds_df['Opponent'] = odds_df['Opponent'].replace('Phillip Rowe', 'Phil Rowe')"
   ]
  },
  {
   "cell_type": "code",
   "execution_count": null,
   "metadata": {},
   "outputs": [],
   "source": [
    "# 16,Erick Silva,Erik Silva,95,True,True"
   ]
  },
  {
   "cell_type": "code",
   "execution_count": null,
   "metadata": {},
   "outputs": [],
   "source": []
  },
  {
   "cell_type": "code",
   "execution_count": 116,
   "metadata": {},
   "outputs": [],
   "source": [
    "similar_names_df.to_csv('similar_names_df_1004.csv')"
   ]
  },
  {
   "cell_type": "code",
   "execution_count": null,
   "metadata": {},
   "outputs": [],
   "source": []
  }
 ],
 "metadata": {
  "kernelspec": {
   "display_name": "Python 3",
   "language": "python",
   "name": "python3"
  },
  "language_info": {
   "codemirror_mode": {
    "name": "ipython",
    "version": 3
   },
   "file_extension": ".py",
   "mimetype": "text/x-python",
   "name": "python",
   "nbconvert_exporter": "python",
   "pygments_lexer": "ipython3",
   "version": "3.11.4"
  },
  "orig_nbformat": 4
 },
 "nbformat": 4,
 "nbformat_minor": 2
}

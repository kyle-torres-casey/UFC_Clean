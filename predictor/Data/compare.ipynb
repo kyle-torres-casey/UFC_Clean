{
 "cells": [
  {
   "cell_type": "code",
   "execution_count": 87,
   "metadata": {},
   "outputs": [],
   "source": [
    "import pandas as pd\n",
    "df_927 = pd.read_csv(\"ufc_combined_0927_3.csv\", index_col = 0)\n",
    "# df_911 = pd.read_csv(\"ufc_combined_0911.csv\", index_col = 0)\n"
   ]
  },
  {
   "cell_type": "code",
   "execution_count": 64,
   "metadata": {},
   "outputs": [],
   "source": [
    "burns = pd.read_csv(\"burns_new_stats.csv\", index_col = 0)"
   ]
  },
  {
   "cell_type": "code",
   "execution_count": 88,
   "metadata": {},
   "outputs": [
    {
     "data": {
      "text/plain": [
       "7865"
      ]
     },
     "execution_count": 88,
     "metadata": {},
     "output_type": "execute_result"
    }
   ],
   "source": [
    "df_927.shape[0]"
   ]
  },
  {
   "cell_type": "code",
   "execution_count": 89,
   "metadata": {},
   "outputs": [
    {
     "data": {
      "text/plain": [
       "Index(['Winner', 'Event', 'Date', 'Location', 'Fighter 1', 'Fighter 2',\n",
       "       'Weight class', 'Stance 1', 'Career W 1', 'Career L 1', 'W 1', 'L 1',\n",
       "       'Num Fights 1', 'W Perc 1', 'Sig Strikes Avg 1', 'Sig Str % 1',\n",
       "       'Sig Strikes Opp Avg 1', 'Sig Str % Opp 1', 'Strikes Avg 1', 'Str % 1',\n",
       "       'Strikes Opp Avg 1', 'Str % Opp 1', 'TD Avg 1', 'TD % 1',\n",
       "       'TD Opp Avg 1', 'TD % Opp 1', 'KD Avg 1', 'KD Opp Avg 1', 'DEC Avg 1',\n",
       "       'KO Avg 1', 'SUB Avg 1', 'DEC Opp Avg 1', 'KO Opp Avg 1',\n",
       "       'SUB Opp Avg 1', 'CTRL Avg 1', 'CTRL Opp Avg 1', 'Time Avg 1',\n",
       "       'Streak 1', 'Ht Diff 1', 'Reach Diff 1', 'Age 1', 'Career Fights 1',\n",
       "       'Career W Perc 1', 'W 2', 'L 2', 'Num Fights 2', 'W Perc 2',\n",
       "       'Sig Strikes Avg 2', 'Sig Str % 2', 'Sig Strikes Opp Avg 2',\n",
       "       'Sig Str % Opp 2', 'Strikes Avg 2', 'Str % 2', 'Strikes Opp Avg 2',\n",
       "       'Str % Opp 2', 'TD Avg 2', 'TD % 2', 'TD Opp Avg 2', 'TD % Opp 2',\n",
       "       'KD Avg 2', 'KD Opp Avg 2', 'DEC Avg 2', 'KO Avg 2', 'SUB Avg 2',\n",
       "       'DEC Opp Avg 2', 'KO Opp Avg 2', 'SUB Opp Avg 2', 'CTRL Avg 2',\n",
       "       'CTRL Opp Avg 2', 'Time Avg 2', 'Streak 2', 'Career W 2', 'Career L 2',\n",
       "       'Career Fights 2', 'Career W Perc 2', 'Ht Diff 2', 'Reach Diff 2',\n",
       "       'Age 2', 'Stance 2'],\n",
       "      dtype='object')"
      ]
     },
     "execution_count": 89,
     "metadata": {},
     "output_type": "execute_result"
    }
   ],
   "source": [
    "df_927.columns"
   ]
  },
  {
   "cell_type": "code",
   "execution_count": 13,
   "metadata": {},
   "outputs": [],
   "source": [
    "# Iterate over each row in fights_df\n",
    "# Initialize an empty list to store combined rows\n",
    "# combined_rows = []\n",
    "# other_rows = []\n",
    "# for idx1, row1 in df_925.iterrows():\n",
    "#     # Find the matching row in odds_df\n",
    "#     match = df_911[((df_911['Fighter 1'] == row1['Fighter 1']) & \n",
    "#                         (df_911['Fighter 2'] == row1['Fighter 2']) & \n",
    "#                         (df_911['Date'] == row1['Date'])) |\n",
    "#                     ((df_911['Fighter 1'] == row1['Fighter 2']) & \n",
    "#                         (df_911['Fighter 2'] == row1['Fighter 1']) & \n",
    "#                         (df_911['Date'] == row1['Date']))]\n",
    "\n",
    "#     if match.empty:\n",
    "#         other_rows.append(row1)\n",
    "#     else:\n",
    "#         combined_rows.append(row1)"
   ]
  },
  {
   "cell_type": "code",
   "execution_count": 14,
   "metadata": {},
   "outputs": [
    {
     "data": {
      "text/plain": [
       "7638"
      ]
     },
     "execution_count": 14,
     "metadata": {},
     "output_type": "execute_result"
    }
   ],
   "source": [
    "# len(combined_rows)"
   ]
  },
  {
   "cell_type": "code",
   "execution_count": 15,
   "metadata": {},
   "outputs": [
    {
     "data": {
      "text/plain": [
       "23"
      ]
     },
     "execution_count": 15,
     "metadata": {},
     "output_type": "execute_result"
    }
   ],
   "source": [
    "# len(other_rows)"
   ]
  },
  {
   "cell_type": "code",
   "execution_count": 61,
   "metadata": {},
   "outputs": [
    {
     "data": {
      "text/html": [
       "<div>\n",
       "<style scoped>\n",
       "    .dataframe tbody tr th:only-of-type {\n",
       "        vertical-align: middle;\n",
       "    }\n",
       "\n",
       "    .dataframe tbody tr th {\n",
       "        vertical-align: top;\n",
       "    }\n",
       "\n",
       "    .dataframe thead th {\n",
       "        text-align: right;\n",
       "    }\n",
       "</style>\n",
       "<table border=\"1\" class=\"dataframe\">\n",
       "  <thead>\n",
       "    <tr style=\"text-align: right;\">\n",
       "      <th></th>\n",
       "      <th>Winner</th>\n",
       "      <th>Event</th>\n",
       "      <th>Date</th>\n",
       "      <th>Location</th>\n",
       "      <th>Fighter 1</th>\n",
       "      <th>Fighter 2</th>\n",
       "      <th>Weight class</th>\n",
       "      <th>Stance 1</th>\n",
       "      <th>Career W 1</th>\n",
       "      <th>Career L 1</th>\n",
       "      <th>...</th>\n",
       "      <th>Time Avg 2</th>\n",
       "      <th>Streak 2</th>\n",
       "      <th>Career W 2</th>\n",
       "      <th>Career L 2</th>\n",
       "      <th>Career Fights 2</th>\n",
       "      <th>Career W Perc 2</th>\n",
       "      <th>Ht Diff 2</th>\n",
       "      <th>Reach Diff 2</th>\n",
       "      <th>Age 2</th>\n",
       "      <th>Stance 2</th>\n",
       "    </tr>\n",
       "  </thead>\n",
       "  <tbody>\n",
       "    <tr>\n",
       "      <th>4130</th>\n",
       "      <td>1</td>\n",
       "      <td>The Ultimate Fighter: Team Lesnar vs Team dos ...</td>\n",
       "      <td>2011-06-04 00:00:00</td>\n",
       "      <td>Las Vegas, Nevada, USA</td>\n",
       "      <td>Shamar Bailey</td>\n",
       "      <td>Ryan McGillivray</td>\n",
       "      <td>Welterweight</td>\n",
       "      <td>Southpaw</td>\n",
       "      <td>15</td>\n",
       "      <td>9</td>\n",
       "      <td>...</td>\n",
       "      <td>0.0</td>\n",
       "      <td>0.0</td>\n",
       "      <td>12</td>\n",
       "      <td>-1</td>\n",
       "      <td>11.0</td>\n",
       "      <td>109.090909</td>\n",
       "      <td>2.0</td>\n",
       "      <td>0.0</td>\n",
       "      <td>25.0</td>\n",
       "      <td>NaN</td>\n",
       "    </tr>\n",
       "    <tr>\n",
       "      <th>5585</th>\n",
       "      <td>0</td>\n",
       "      <td>UFC Fight Night: Maia vs LaFlare</td>\n",
       "      <td>2015-03-21 00:00:00</td>\n",
       "      <td>Rio de Janeiro, Brazil</td>\n",
       "      <td>Alex Oliveira</td>\n",
       "      <td>Gilbert Burns</td>\n",
       "      <td>Lightweight</td>\n",
       "      <td>Orthodox</td>\n",
       "      <td>11</td>\n",
       "      <td>2</td>\n",
       "      <td>...</td>\n",
       "      <td>598.5</td>\n",
       "      <td>2.0</td>\n",
       "      <td>9</td>\n",
       "      <td>-1</td>\n",
       "      <td>8.0</td>\n",
       "      <td>112.500000</td>\n",
       "      <td>-1.0</td>\n",
       "      <td>-5.0</td>\n",
       "      <td>29.0</td>\n",
       "      <td>Orthodox</td>\n",
       "    </tr>\n",
       "    <tr>\n",
       "      <th>6005</th>\n",
       "      <td>1</td>\n",
       "      <td>UFC Fight Night: Edgar vs Swanson</td>\n",
       "      <td>2014-11-22 00:00:00</td>\n",
       "      <td>Austin, Texas, USA</td>\n",
       "      <td>Paige VanZant</td>\n",
       "      <td>Kailin Curran</td>\n",
       "      <td>Women's Strawweight</td>\n",
       "      <td>Orthodox</td>\n",
       "      <td>3</td>\n",
       "      <td>1</td>\n",
       "      <td>...</td>\n",
       "      <td>0.0</td>\n",
       "      <td>0.0</td>\n",
       "      <td>3</td>\n",
       "      <td>-1</td>\n",
       "      <td>2.0</td>\n",
       "      <td>150.000000</td>\n",
       "      <td>0.0</td>\n",
       "      <td>0.0</td>\n",
       "      <td>23.0</td>\n",
       "      <td>Orthodox</td>\n",
       "    </tr>\n",
       "  </tbody>\n",
       "</table>\n",
       "<p>3 rows × 79 columns</p>\n",
       "</div>"
      ],
      "text/plain": [
       "      Winner                                              Event  \\\n",
       "4130       1  The Ultimate Fighter: Team Lesnar vs Team dos ...   \n",
       "5585       0                   UFC Fight Night: Maia vs LaFlare   \n",
       "6005       1                  UFC Fight Night: Edgar vs Swanson   \n",
       "\n",
       "                     Date                Location      Fighter 1  \\\n",
       "4130  2011-06-04 00:00:00  Las Vegas, Nevada, USA  Shamar Bailey   \n",
       "5585  2015-03-21 00:00:00  Rio de Janeiro, Brazil  Alex Oliveira   \n",
       "6005  2014-11-22 00:00:00      Austin, Texas, USA  Paige VanZant   \n",
       "\n",
       "             Fighter 2         Weight class  Stance 1  Career W 1  Career L 1  \\\n",
       "4130  Ryan McGillivray         Welterweight  Southpaw          15           9   \n",
       "5585     Gilbert Burns          Lightweight  Orthodox          11           2   \n",
       "6005     Kailin Curran  Women's Strawweight  Orthodox           3           1   \n",
       "\n",
       "      ...  Time Avg 2  Streak 2  Career W 2  Career L 2  Career Fights 2  \\\n",
       "4130  ...         0.0       0.0          12          -1             11.0   \n",
       "5585  ...       598.5       2.0           9          -1              8.0   \n",
       "6005  ...         0.0       0.0           3          -1              2.0   \n",
       "\n",
       "      Career W Perc 2  Ht Diff 2  Reach Diff 2  Age 2  Stance 2  \n",
       "4130       109.090909        2.0           0.0   25.0       NaN  \n",
       "5585       112.500000       -1.0          -5.0   29.0  Orthodox  \n",
       "6005       150.000000        0.0           0.0   23.0  Orthodox  \n",
       "\n",
       "[3 rows x 79 columns]"
      ]
     },
     "execution_count": 61,
     "metadata": {},
     "output_type": "execute_result"
    }
   ],
   "source": [
    "df_925[(df_925['Career L 2'] < 0)]"
   ]
  },
  {
   "cell_type": "code",
   "execution_count": 62,
   "metadata": {},
   "outputs": [
    {
     "data": {
      "text/html": [
       "<div>\n",
       "<style scoped>\n",
       "    .dataframe tbody tr th:only-of-type {\n",
       "        vertical-align: middle;\n",
       "    }\n",
       "\n",
       "    .dataframe tbody tr th {\n",
       "        vertical-align: top;\n",
       "    }\n",
       "\n",
       "    .dataframe thead th {\n",
       "        text-align: right;\n",
       "    }\n",
       "</style>\n",
       "<table border=\"1\" class=\"dataframe\">\n",
       "  <thead>\n",
       "    <tr style=\"text-align: right;\">\n",
       "      <th></th>\n",
       "      <th>Winner</th>\n",
       "      <th>Event</th>\n",
       "      <th>Date</th>\n",
       "      <th>Location</th>\n",
       "      <th>Fighter 1</th>\n",
       "      <th>Fighter 2</th>\n",
       "      <th>Weight class</th>\n",
       "      <th>Stance 1</th>\n",
       "      <th>Career W 1</th>\n",
       "      <th>Career L 1</th>\n",
       "      <th>...</th>\n",
       "      <th>Time Avg 2</th>\n",
       "      <th>Streak 2</th>\n",
       "      <th>Career W 2</th>\n",
       "      <th>Career L 2</th>\n",
       "      <th>Career Fights 2</th>\n",
       "      <th>Career W Perc 2</th>\n",
       "      <th>Ht Diff 2</th>\n",
       "      <th>Reach Diff 2</th>\n",
       "      <th>Age 2</th>\n",
       "      <th>Stance 2</th>\n",
       "    </tr>\n",
       "  </thead>\n",
       "  <tbody>\n",
       "    <tr>\n",
       "      <th>81</th>\n",
       "      <td>1</td>\n",
       "      <td>UFC 179: Aldo vs Mendes 2</td>\n",
       "      <td>2014-10-25 00:00:00</td>\n",
       "      <td>Rio de Janeiro, Brazil</td>\n",
       "      <td>Gilbert Burns</td>\n",
       "      <td>Christos Giagos</td>\n",
       "      <td>Lightweight</td>\n",
       "      <td>Orthodox</td>\n",
       "      <td>8</td>\n",
       "      <td>-1</td>\n",
       "      <td>...</td>\n",
       "      <td>0.0</td>\n",
       "      <td>0.0</td>\n",
       "      <td>14</td>\n",
       "      <td>4</td>\n",
       "      <td>18.0</td>\n",
       "      <td>77.777778</td>\n",
       "      <td>0.0</td>\n",
       "      <td>0.0</td>\n",
       "      <td>24.0</td>\n",
       "      <td>Orthodox</td>\n",
       "    </tr>\n",
       "    <tr>\n",
       "      <th>660</th>\n",
       "      <td>0</td>\n",
       "      <td>UFC Fight Night: Emmett vs. Topuria</td>\n",
       "      <td>2023-06-24 00:00:00</td>\n",
       "      <td>Jacksonville, Florida, USA</td>\n",
       "      <td>Trevor Peek</td>\n",
       "      <td>Chepe Mariscal</td>\n",
       "      <td>Lightweight</td>\n",
       "      <td>Switch</td>\n",
       "      <td>8</td>\n",
       "      <td>-1</td>\n",
       "      <td>...</td>\n",
       "      <td>0.0</td>\n",
       "      <td>0.0</td>\n",
       "      <td>13</td>\n",
       "      <td>6</td>\n",
       "      <td>19.0</td>\n",
       "      <td>68.421053</td>\n",
       "      <td>-2.0</td>\n",
       "      <td>-1.0</td>\n",
       "      <td>31.0</td>\n",
       "      <td>Orthodox</td>\n",
       "    </tr>\n",
       "    <tr>\n",
       "      <th>5409</th>\n",
       "      <td>0</td>\n",
       "      <td>UFC Fight Night: Belfort vs Henderson 3</td>\n",
       "      <td>2015-11-07 00:00:00</td>\n",
       "      <td>Sao Paulo, Sao Paulo, Brazil</td>\n",
       "      <td>Gilbert Burns</td>\n",
       "      <td>Rashid Magomedov</td>\n",
       "      <td>Lightweight</td>\n",
       "      <td>Orthodox</td>\n",
       "      <td>10</td>\n",
       "      <td>-1</td>\n",
       "      <td>...</td>\n",
       "      <td>899.0</td>\n",
       "      <td>3.0</td>\n",
       "      <td>18</td>\n",
       "      <td>1</td>\n",
       "      <td>19.0</td>\n",
       "      <td>94.736842</td>\n",
       "      <td>-1.0</td>\n",
       "      <td>-1.0</td>\n",
       "      <td>31.0</td>\n",
       "      <td>Orthodox</td>\n",
       "    </tr>\n",
       "    <tr>\n",
       "      <th>5584</th>\n",
       "      <td>1</td>\n",
       "      <td>UFC on FOX: Lawler vs Brown</td>\n",
       "      <td>2014-07-26 00:00:00</td>\n",
       "      <td>San Jose, California, USA</td>\n",
       "      <td>Gilbert Burns</td>\n",
       "      <td>Andreas Stahl</td>\n",
       "      <td>Welterweight</td>\n",
       "      <td>Orthodox</td>\n",
       "      <td>7</td>\n",
       "      <td>-1</td>\n",
       "      <td>...</td>\n",
       "      <td>0.0</td>\n",
       "      <td>0.0</td>\n",
       "      <td>10</td>\n",
       "      <td>2</td>\n",
       "      <td>12.0</td>\n",
       "      <td>83.333333</td>\n",
       "      <td>1.0</td>\n",
       "      <td>0.0</td>\n",
       "      <td>26.0</td>\n",
       "      <td>Orthodox</td>\n",
       "    </tr>\n",
       "    <tr>\n",
       "      <th>7452</th>\n",
       "      <td>0</td>\n",
       "      <td>UFC 293: Adesanya vs. Strickland</td>\n",
       "      <td>2023-09-09 00:00:00</td>\n",
       "      <td>Sydney, New South Wales, Australia</td>\n",
       "      <td>Felipe dos Santos</td>\n",
       "      <td>Manel Kape</td>\n",
       "      <td>Flyweight</td>\n",
       "      <td>Orthodox</td>\n",
       "      <td>7</td>\n",
       "      <td>-1</td>\n",
       "      <td>...</td>\n",
       "      <td>645.2</td>\n",
       "      <td>3.0</td>\n",
       "      <td>18</td>\n",
       "      <td>6</td>\n",
       "      <td>24.0</td>\n",
       "      <td>75.000000</td>\n",
       "      <td>-2.0</td>\n",
       "      <td>-2.0</td>\n",
       "      <td>30.0</td>\n",
       "      <td>Southpaw</td>\n",
       "    </tr>\n",
       "    <tr>\n",
       "      <th>7589</th>\n",
       "      <td>1</td>\n",
       "      <td>UFC Fight Night: Muniz vs. Allen</td>\n",
       "      <td>2023-02-25 00:00:00</td>\n",
       "      <td>Las Vegas, Nevada, USA</td>\n",
       "      <td>Trevor Peek</td>\n",
       "      <td>Erick Gonzalez</td>\n",
       "      <td>Lightweight</td>\n",
       "      <td>Switch</td>\n",
       "      <td>7</td>\n",
       "      <td>-1</td>\n",
       "      <td>...</td>\n",
       "      <td>225.5</td>\n",
       "      <td>-2.0</td>\n",
       "      <td>14</td>\n",
       "      <td>7</td>\n",
       "      <td>21.0</td>\n",
       "      <td>66.666667</td>\n",
       "      <td>2.0</td>\n",
       "      <td>5.0</td>\n",
       "      <td>31.0</td>\n",
       "      <td>Orthodox</td>\n",
       "    </tr>\n",
       "  </tbody>\n",
       "</table>\n",
       "<p>6 rows × 79 columns</p>\n",
       "</div>"
      ],
      "text/plain": [
       "      Winner                                    Event                 Date  \\\n",
       "81         1                UFC 179: Aldo vs Mendes 2  2014-10-25 00:00:00   \n",
       "660        0      UFC Fight Night: Emmett vs. Topuria  2023-06-24 00:00:00   \n",
       "5409       0  UFC Fight Night: Belfort vs Henderson 3  2015-11-07 00:00:00   \n",
       "5584       1              UFC on FOX: Lawler vs Brown  2014-07-26 00:00:00   \n",
       "7452       0         UFC 293: Adesanya vs. Strickland  2023-09-09 00:00:00   \n",
       "7589       1         UFC Fight Night: Muniz vs. Allen  2023-02-25 00:00:00   \n",
       "\n",
       "                                Location          Fighter 1         Fighter 2  \\\n",
       "81                Rio de Janeiro, Brazil      Gilbert Burns   Christos Giagos   \n",
       "660           Jacksonville, Florida, USA        Trevor Peek    Chepe Mariscal   \n",
       "5409        Sao Paulo, Sao Paulo, Brazil      Gilbert Burns  Rashid Magomedov   \n",
       "5584           San Jose, California, USA      Gilbert Burns     Andreas Stahl   \n",
       "7452  Sydney, New South Wales, Australia  Felipe dos Santos        Manel Kape   \n",
       "7589              Las Vegas, Nevada, USA        Trevor Peek    Erick Gonzalez   \n",
       "\n",
       "      Weight class  Stance 1  Career W 1  Career L 1  ...  Time Avg 2  \\\n",
       "81     Lightweight  Orthodox           8          -1  ...         0.0   \n",
       "660    Lightweight    Switch           8          -1  ...         0.0   \n",
       "5409   Lightweight  Orthodox          10          -1  ...       899.0   \n",
       "5584  Welterweight  Orthodox           7          -1  ...         0.0   \n",
       "7452     Flyweight  Orthodox           7          -1  ...       645.2   \n",
       "7589   Lightweight    Switch           7          -1  ...       225.5   \n",
       "\n",
       "      Streak 2  Career W 2  Career L 2  Career Fights 2  Career W Perc 2  \\\n",
       "81         0.0          14           4             18.0        77.777778   \n",
       "660        0.0          13           6             19.0        68.421053   \n",
       "5409       3.0          18           1             19.0        94.736842   \n",
       "5584       0.0          10           2             12.0        83.333333   \n",
       "7452       3.0          18           6             24.0        75.000000   \n",
       "7589      -2.0          14           7             21.0        66.666667   \n",
       "\n",
       "      Ht Diff 2  Reach Diff 2  Age 2  Stance 2  \n",
       "81          0.0           0.0   24.0  Orthodox  \n",
       "660        -2.0          -1.0   31.0  Orthodox  \n",
       "5409       -1.0          -1.0   31.0  Orthodox  \n",
       "5584        1.0           0.0   26.0  Orthodox  \n",
       "7452       -2.0          -2.0   30.0  Southpaw  \n",
       "7589        2.0           5.0   31.0  Orthodox  \n",
       "\n",
       "[6 rows x 79 columns]"
      ]
     },
     "execution_count": 62,
     "metadata": {},
     "output_type": "execute_result"
    }
   ],
   "source": [
    "df_925[(df_925['Career L 1'] < 0)]"
   ]
  },
  {
   "cell_type": "code",
   "execution_count": 72,
   "metadata": {},
   "outputs": [],
   "source": [
    "bouts_0927 = pd.read_csv(\"bouts_0927.csv\", index_col = 0)\n",
    "bouts_913 = pd.read_csv(\"bouts_913.csv\", index_col = 0)"
   ]
  },
  {
   "cell_type": "code",
   "execution_count": 73,
   "metadata": {},
   "outputs": [
    {
     "data": {
      "text/plain": [
       "Index(['Date', 'Location', 'W/L 1', 'W/L 2', 'Fighter 1', 'Fighter 2', 'Kd 1',\n",
       "       'Kd 2', 'Str 1', 'Str 2', 'Td 1', 'Td 2', 'Sub 1', 'Sub 2',\n",
       "       'Weight class', 'Method', 'Round', 'Time'],\n",
       "      dtype='object')"
      ]
     },
     "execution_count": 73,
     "metadata": {},
     "output_type": "execute_result"
    }
   ],
   "source": [
    "bouts_0927.columns"
   ]
  },
  {
   "cell_type": "code",
   "execution_count": 74,
   "metadata": {},
   "outputs": [
    {
     "data": {
      "text/plain": [
       "Index(['Date', 'Location', 'W/L 1', 'W/L 2', 'Fighter 1', 'Fighter 2', 'Kd 1',\n",
       "       'Kd 2', 'Str 1', 'Str 2', 'Td 1', 'Td 2', 'Sub 1', 'Sub 2',\n",
       "       'Weight class', 'Method', 'Round', 'Time', 'KD 1', 'KD 2',\n",
       "       'Sig. str. 1', 'Sig. str. 2', 'Sig. str. % 1', 'Sig. str. % 2',\n",
       "       'Total str. 1', 'Total str. 2', 'Td % 1', 'Td % 2', 'Sub. att 1',\n",
       "       'Sub. att 2', 'Rev. 1', 'Rev. 2', 'Ctrl 1', 'Ctrl 2'],\n",
       "      dtype='object')"
      ]
     },
     "execution_count": 74,
     "metadata": {},
     "output_type": "execute_result"
    }
   ],
   "source": [
    "bouts_913.columns"
   ]
  },
  {
   "cell_type": "code",
   "execution_count": 84,
   "metadata": {},
   "outputs": [],
   "source": [
    "bouts_clean = pd.read_csv(\"bouts_0927_2.csv\")"
   ]
  },
  {
   "cell_type": "code",
   "execution_count": 85,
   "metadata": {},
   "outputs": [],
   "source": [
    "# Identify and drop non-integer 'Round' values\n",
    "bouts_clean['Round_numeric'] = pd.to_numeric(bouts_clean['Round'], errors='coerce')\n",
    "bouts_clean = bouts_clean.dropna(subset=['Round_numeric'])  # Drop rows with NaN in 'Round_numeric'\n",
    "\n",
    "# Optionally, drop the temporary 'Round_numeric' column if no longer needed\n",
    "bouts_clean = bouts_clean.drop(columns=['Round_numeric'])"
   ]
  },
  {
   "cell_type": "code",
   "execution_count": 86,
   "metadata": {},
   "outputs": [],
   "source": [
    "bouts_clean.to_csv(\"bouts_0927_3.csv\")"
   ]
  },
  {
   "cell_type": "code",
   "execution_count": null,
   "metadata": {},
   "outputs": [],
   "source": []
  },
  {
   "cell_type": "code",
   "execution_count": 77,
   "metadata": {},
   "outputs": [
    {
     "data": {
      "text/html": [
       "<div>\n",
       "<style scoped>\n",
       "    .dataframe tbody tr th:only-of-type {\n",
       "        vertical-align: middle;\n",
       "    }\n",
       "\n",
       "    .dataframe tbody tr th {\n",
       "        vertical-align: top;\n",
       "    }\n",
       "\n",
       "    .dataframe thead th {\n",
       "        text-align: right;\n",
       "    }\n",
       "</style>\n",
       "<table border=\"1\" class=\"dataframe\">\n",
       "  <thead>\n",
       "    <tr style=\"text-align: right;\">\n",
       "      <th></th>\n",
       "      <th>Event</th>\n",
       "      <th>Date</th>\n",
       "      <th>Location</th>\n",
       "      <th>W/L 1</th>\n",
       "      <th>W/L 2</th>\n",
       "      <th>Fighter 1</th>\n",
       "      <th>Fighter 2</th>\n",
       "      <th>Kd 1</th>\n",
       "      <th>Kd 2</th>\n",
       "      <th>Str 1</th>\n",
       "      <th>...</th>\n",
       "      <th>Total str. 1</th>\n",
       "      <th>Total str. 2</th>\n",
       "      <th>Td % 1</th>\n",
       "      <th>Td % 2</th>\n",
       "      <th>Sub. att 1</th>\n",
       "      <th>Sub. att 2</th>\n",
       "      <th>Rev. 1</th>\n",
       "      <th>Rev. 2</th>\n",
       "      <th>Ctrl 1</th>\n",
       "      <th>Ctrl 2</th>\n",
       "    </tr>\n",
       "  </thead>\n",
       "  <tbody>\n",
       "  </tbody>\n",
       "</table>\n",
       "<p>0 rows × 35 columns</p>\n",
       "</div>"
      ],
      "text/plain": [
       "Empty DataFrame\n",
       "Columns: [Event, Date, Location, W/L 1, W/L 2, Fighter 1, Fighter 2, Kd 1, Kd 2, Str 1, Str 2, Td 1, Td 2, Sub 1, Sub 2, Weight class, Method, Round, Time, KD 1, KD 2, Sig. str. 1, Sig. str. 2, Sig. str. % 1, Sig. str. % 2, Total str. 1, Total str. 2, Td % 1, Td % 2, Sub. att 1, Sub. att 2, Rev. 1, Rev. 2, Ctrl 1, Ctrl 2]\n",
       "Index: []\n",
       "\n",
       "[0 rows x 35 columns]"
      ]
     },
     "execution_count": 77,
     "metadata": {},
     "output_type": "execute_result"
    }
   ],
   "source": [
    "# bouts_clean[bouts_clean['Round'] == '--']"
   ]
  },
  {
   "cell_type": "code",
   "execution_count": 80,
   "metadata": {},
   "outputs": [
    {
     "name": "stdout",
     "output_type": "stream",
     "text": [
      "15    Round\n",
      "98    Round\n",
      "Name: Round, dtype: object\n"
     ]
    }
   ],
   "source": [
    "# Convert 'Round' column to numeric, forcing non-numeric values to NaN\n",
    "bouts_clean['Round_numeric'] = pd.to_numeric(bouts_clean['Round'], errors='coerce')\n",
    "\n",
    "# Check for rows where the conversion failed (i.e., non-integer values)\n",
    "non_numeric_rounds = bouts_clean[bouts_clean['Round_numeric'].isna()]\n",
    "\n",
    "# Print or inspect non-integer rows\n",
    "print(non_numeric_rounds['Round'])"
   ]
  },
  {
   "cell_type": "code",
   "execution_count": null,
   "metadata": {},
   "outputs": [],
   "source": []
  }
 ],
 "metadata": {
  "kernelspec": {
   "display_name": "Python 3",
   "language": "python",
   "name": "python3"
  },
  "language_info": {
   "codemirror_mode": {
    "name": "ipython",
    "version": 3
   },
   "file_extension": ".py",
   "mimetype": "text/x-python",
   "name": "python",
   "nbconvert_exporter": "python",
   "pygments_lexer": "ipython3",
   "version": "3.11.4"
  },
  "orig_nbformat": 4
 },
 "nbformat": 4,
 "nbformat_minor": 2
}
